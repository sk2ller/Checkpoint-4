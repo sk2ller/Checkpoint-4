{
 "cells": [
  {
   "cell_type": "code",
   "execution_count": 1,
   "id": "a5ef9cb6",
   "metadata": {},
   "outputs": [
    {
     "name": "stdout",
     "output_type": "stream",
     "text": [
      "(1, 2, 3)\n"
     ]
    }
   ],
   "source": [
    "#Ex1.\n",
    "class Point3D:\n",
    "  def __init__(self,x,y,z):\n",
    "    print(tuple([x,y,z]))\n",
    "first= Point3D(1,2,3)"
   ]
  },
  {
   "cell_type": "code",
   "execution_count": 2,
   "id": "33546147",
   "metadata": {},
   "outputs": [
    {
     "name": "stdout",
     "output_type": "stream",
     "text": [
      "Length: 10\n",
      "Width: 52\n",
      "Area: 520.0 \n",
      "Perimiter: 124.0\n"
     ]
    }
   ],
   "source": [
    "#Ex2.\n",
    "class Rectangle:\n",
    "  def __init__(self,length,width):\n",
    "    self.length=length\n",
    "    self.width=width\n",
    "  def area(self):\n",
    "    return(self.length*self.width)\n",
    "  def perimiter(self):\n",
    "    return(2*(self.length+self.width))\n",
    "my_rectangle= Rectangle(float(input(\"Length: \")),float(input(\"Width: \")))\n",
    "print(\"Area:\",my_rectangle.area(),'\\n'\"Perimiter:\",my_rectangle.perimiter())"
   ]
  },
  {
   "cell_type": "code",
   "execution_count": 3,
   "id": "e8e1abbf",
   "metadata": {},
   "outputs": [
    {
     "name": "stdout",
     "output_type": "stream",
     "text": [
      "X(o)= 10\n",
      "Y(o)= 17\n",
      "radius= 100\n",
      "X(a)= 10\n",
      "Y(a)= 17\n",
      "\n",
      "area= 20000.0 \n",
      "perimiter= 628.3185307179587 \n",
      "a doesn't belong to the cercle\n"
     ]
    }
   ],
   "source": [
    "#Ex3.\n",
    "import math\n",
    "class Circle:\n",
    "  def __init__(self,Xo,Yo,r):\n",
    "    self.Xo=Xo\n",
    "    self.Yo=Yo\n",
    "    self.r=r\n",
    "  def area(self):\n",
    "    return self.r*self.r*2\n",
    "  def perimiter(self):\n",
    "    return 2*math.pi*self.r\n",
    "  def isInside(self,x,y):\n",
    "    if (x - self.Xo)**2 + (y - self.Yo)**2 ==self.r**2:\n",
    "      return \"\\na belongs to the cercle\"\n",
    "    else:\n",
    "      return \"\\na doesn't belong to the cercle\"\n",
    "teste=Circle(float(input(\"X(o)= \")),float(input(\"Y(o)= \")),float(input(\"radius= \")))\n",
    "print(\"\\narea=\",teste.area(),\"\\nperimiter=\",teste.perimiter(),teste.isInside(float(input(\"X(a)= \")),float(input(\"Y(a)= \"))))"
   ]
  },
  {
   "cell_type": "code",
   "execution_count": 4,
   "id": "ffbb5752",
   "metadata": {},
   "outputs": [
    {
     "name": "stdout",
     "output_type": "stream",
     "text": [
      "Add your balance: 1000\n",
      "Add deposit: 500\n",
      "you deposited: 500.0\n",
      "how much would you like to whithdraw: 100\n",
      "you withdrew:  100.0\n",
      "your new balance is:  1400.0\n"
     ]
    }
   ],
   "source": [
    "#Ex4.\n",
    "class Bank:\n",
    "  def __init__(self):\n",
    "    self.balance=(float(input(\"Add your balance: \")))\n",
    "  def deposit(self):\n",
    "    self.deposit=(float(input(\"Add deposit: \")))\n",
    "    print(\"you deposited:\",self.deposit)\n",
    "  def withdraw(self):\n",
    "    self.amount=(float(input(\"how much would you like to whithdraw: \")))\n",
    "    if self.amount<=self.balance+self.deposit:\n",
    "        print (\"you withdrew: \",self.amount)\n",
    "    else:\n",
    "        print(\"you cannot withdraw this amount\")\n",
    "  def new(self):\n",
    "    balance=self.balance+self.deposit-self.amount\n",
    "    print(\"your new balance is: \",balance)\n",
    "add=Bank()\n",
    "add.deposit()\n",
    "add.withdraw()\n",
    "add.new()"
   ]
  }
 ],
 "metadata": {
  "kernelspec": {
   "display_name": "Python 3",
   "language": "python",
   "name": "python3"
  },
  "language_info": {
   "codemirror_mode": {
    "name": "ipython",
    "version": 3
   },
   "file_extension": ".py",
   "mimetype": "text/x-python",
   "name": "python",
   "nbconvert_exporter": "python",
   "pygments_lexer": "ipython3",
   "version": "3.8.8"
  }
 },
 "nbformat": 4,
 "nbformat_minor": 5
}
